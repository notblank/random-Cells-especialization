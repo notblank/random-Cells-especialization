{
 "cells": [
  {
   "cell_type": "markdown",
   "metadata": {},
   "source": [
    "### Model: \n",
    "\n",
    "[Phenotypic Diversity, Population Growthn and Information in Fluctuating Enviroments, Edo Kussell and Stanislas Leiber]\n",
    "\n",
    "$$\n",
    "\\Large \n",
    "x'(t) = A_{\\epsilon(t)} x(t)\n",
    "$$\n",
    "\n",
    "where $\\epsilon(t)$ is a stochastic process and  \n",
    "\n",
    "$$\n",
    "\\Large\n",
    "A_k = \n",
    "\\begin{bmatrix}\n",
    "f_1^{(k)} - H_{11} & H_{23} & H_{13} \\\\\n",
    " H_{21} & f_2^{(k)} - H_{22} & H_{23} \\\\\n",
    " H_{31} & H_{32} & f_3^{(k)} - H_{33}\n",
    "\\end{bmatrix}\n",
    "$$\n",
    "\n",
    "\n",
    "In the matrix, $f_j^{(k)}$ is the growth rate of phenotype $j$ in enviroment $k$. \n",
    "\n",
    "\n",
    "### Goal: \n",
    "\n",
    "Study the distribution of $x_j(t)$.\n",
    "\n",
    "### Idea: \n",
    "\n",
    "The Lyapunov exponent of the model has an expansion with terms that are similar to the boosting algo. "
   ]
  },
  {
   "cell_type": "code",
   "execution_count": 1,
   "metadata": {
    "collapsed": true
   },
   "outputs": [],
   "source": [
    "import numpy as np\n",
    "from functools import partial\n",
    "import matplotlib.pylab as plt"
   ]
  },
  {
   "cell_type": "code",
   "execution_count": 2,
   "metadata": {
    "collapsed": true
   },
   "outputs": [],
   "source": [
    "from scipy import linalg\n",
    "from scipy.integrate import solve_ivp\n",
    "import scipy"
   ]
  },
  {
   "cell_type": "code",
   "execution_count": 3,
   "metadata": {
    "collapsed": true
   },
   "outputs": [],
   "source": [
    "def next_enviroment(intitial_env, Q):\n",
    "    '''\n",
    "    Given an initial state, computes the next state in a markov chain with transition matrix Q. \n",
    "    '''\n",
    "    sample = np.random.multinomial(1, Q[intitial_env], size = 1)\n",
    "    next_env = np.argmax(sample)\n",
    "    return(next_env)"
   ]
  },
  {
   "cell_type": "code",
   "execution_count": 4,
   "metadata": {
    "collapsed": true
   },
   "outputs": [],
   "source": [
    "def Aeps_x(t, x, enviroment, Q, F, H):\n",
    "    \n",
    "    '''\n",
    "    inputs: \n",
    "        - t = time.\n",
    "        - x[j] = # of cells with phenotype j in an enviroment. \n",
    "        - enviroment = number of enviroment. There are E in total.  \n",
    "        - Q = ExE transition matrix of a Markov Chain.  \n",
    "        - F = ExP matrix with growth rate of phenotypes for each enviroment. \n",
    "        - H = PxP matrix with the switching rates from phenotype i to j.\n",
    "    '''\n",
    "    E = Q.shape[0]\n",
    "    P = F.shape[1]\n",
    "\n",
    "    A = np.diag(F[enviroment]) - H\n",
    "    \n",
    "    dx = A.dot(x)\n",
    "    \n",
    "    return(dx)"
   ]
  },
  {
   "cell_type": "markdown",
   "metadata": {},
   "source": [
    "# A 2x2 Example "
   ]
  },
  {
   "cell_type": "code",
   "execution_count": 5,
   "metadata": {
    "collapsed": true
   },
   "outputs": [],
   "source": [
    "EMat = np.array([[10, 5], \n",
    "                 [5, 10]])\n",
    "\n",
    "# number of enviroments and phenotypes\n",
    "E = 2\n",
    "P = 2\n",
    "\n",
    "row_sums = EMat.sum(axis=1).reshape(E, 1)\n",
    "Q = EMat / row_sums\n",
    "\n",
    "H = np.array([[0, 0.05],\n",
    "              [1e-6, 0]])\n",
    "\n",
    "F = np.array([[2, 0], \n",
    "              [0, 2]]) "
   ]
  },
  {
   "cell_type": "code",
   "execution_count": 32,
   "metadata": {
    "collapsed": true
   },
   "outputs": [],
   "source": [
    "N = 1000\n",
    "tfinal = 25\n",
    "t0 = 0\n",
    "t = np.linspace(start=0, stop=tfinal, num=N)\n",
    "x0 = [20, 20]\n",
    "e0 = 0"
   ]
  },
  {
   "cell_type": "code",
   "execution_count": 33,
   "metadata": {},
   "outputs": [],
   "source": [
    "def solvSYS(e0, Q, F, H, N, x0, t0, tfinal):\n",
    "    \n",
    "    solver = scipy.integrate.ode(Aeps_x).set_integrator('dopri5', nsteps=100)\n",
    "    solver.set_initial_value(x0, t0).set_f_params(e0, Q, F, H)\n",
    "\n",
    "    sol = np.zeros((N, E))\n",
    "    sol[0] = x0\n",
    "    Enviroments = np.zeros(N)\n",
    "\n",
    "    k = 1\n",
    "    while solver.successful() and solver.t < tfinal:\n",
    "        solver.integrate(t[k])\n",
    "        sol[k] = solver.y\n",
    "        k += 1\n",
    "\n",
    "        Enviroments[k-1] = e0\n",
    "\n",
    "        e0 =  next_enviroment(e0, Q=Q)\n",
    "        solver.set_f_params(e0, Q, F, H)\n",
    "    \n",
    "    return(sol, Enviroments)"
   ]
  },
  {
   "cell_type": "code",
   "execution_count": 34,
   "metadata": {
    "collapsed": true
   },
   "outputs": [],
   "source": [
    "sol, Enviroments = solvSYS(e0, Q, F, H, N, x0, t0, tfinal)"
   ]
  },
  {
   "cell_type": "code",
   "execution_count": 35,
   "metadata": {},
   "outputs": [
    {
     "data": {
      "image/png": "[encoded data removed]",
      "text/plain": [
       "<matplotlib.figure.Figure at 0x167d69b2b0>"
      ]
     },
     "metadata": {},
     "output_type": "display_data"
    }
   ],
   "source": [
    "plt.subplot(211)\n",
    "plt.plot(t, sol[:,0], label='$P_0$')\n",
    "plt.plot(t, sol[:,1], label='$P_1$')\n",
    "plt.ylabel('Number of cells')\n",
    "plt.legend()\n",
    "\n",
    "\n",
    "E0 = np.copy(Enviroments)\n",
    "E1 = np.copy(Enviroments)\n",
    "E0[Enviroments == 1] = np.nan\n",
    "E1[Enviroments == 0] = np.nan\n",
    "\n",
    "plt.subplot(212)\n",
    "plt.plot(t, E0, '.', label = 'E0')\n",
    "plt.plot(t, E1, '.', label = 'E1')\n",
    "plt.ylabel('Enviroments')\n",
    "plt.xlabel('time')\n",
    "plt.legend()\n",
    "\n",
    "plt.tight_layout()\n",
    "plt.savefig('twoPhenotypes.png', format='png', dpi=500)\n",
    "plt.show()"
   ]
  },
  {
   "cell_type": "code",
   "execution_count": null,
   "metadata": {
    "collapsed": true
   },
   "outputs": [],
   "source": []
  }
 ],
 "metadata": {
  "kernelspec": {
   "display_name": "Python 3",
   "language": "python",
   "name": "python3"
  },
  "language_info": {
   "codemirror_mode": {
    "name": "ipython",
    "version": 3
   },
   "file_extension": ".py",
   "mimetype": "text/x-python",
   "name": "python",
   "nbconvert_exporter": "python",
   "pygments_lexer": "ipython3",
   "version": "3.6.2"
  }
 },
 "nbformat": 4,
 "nbformat_minor": 2
}
