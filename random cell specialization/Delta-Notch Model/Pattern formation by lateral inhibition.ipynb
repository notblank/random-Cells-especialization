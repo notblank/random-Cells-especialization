{
 "cells": [
  {
   "cell_type": "markdown",
   "metadata": {},
   "source": [
    "## Delta-Notch model\n",
    "\n",
    "article: \n",
    "\n",
    "Pattern formation by lateral inhibition, Collier, Monk, Maini and Lewis.\n",
    "\n",
    "Model:\n",
    "\n",
    "$$\\large \\begin{align*}\n",
    "\\dfrac{d}{dt}\\left( \\dfrac{N_p}{N_0} \\right) &= F\\left(\\dfrac{\\bar{D_p}}{D_0} \\right) - \\mu \\dfrac{N_p}{N_0} \\\\\n",
    "\\dfrac{d}{dt}\\left( \\dfrac{D_p}{D_0} \\right) &= G\\left(\\dfrac{N_p}{N_0} \\right) - \\rho \\dfrac{D_p}{D_0}\n",
    "\\end{align*}$$ \n",
    "\n",
    "Where:\n",
    "\n",
    "- $N$ Notch level, is the receptor for lateral inhibition. \n",
    "- $D$ Delta activity, delivers lateral inhibition (ligand?).\n",
    "- $N_p$ Notch level in a cell p, $D_p$ Delta activity in cell p. \n",
    "- $N_0$ Typical notch level, $D_0$ Typical delta activity. \n",
    "- $\\bar{D_p}$ mean delta activity around cell p (the neigborhood has to be defined). \n",
    "\n",
    "Delta bindings leads to the activation of Notch. \n",
    "\n",
    "The model assumes: \n",
    "\n",
    "- Cells interact only with neigbors. \n",
    "- Rate of production of Notch activity is an increasing function of $D$, F.\n",
    "- Rate of production of Delta activity is a decreasing function of $N$, G. \n",
    "- Production of $N$ and $D$ is balanced by exponential decay with fixed rate contstants, $\\mu$ and $\\rho$ (second terms).\n",
    "- Level of activated $N$ determines the cell fate: low, primary fate, high, secondary fate.   "
   ]
  },
  {
   "cell_type": "markdown",
   "metadata": {},
   "source": [
    "### Interpretation and Adimensional equations\n",
    "\n",
    "Let: \n",
    "\n",
    "- $n_p := N_p/N_0$\n",
    "- $d_p := D_p/D_0$\n",
    "- $f := (1/\\mu)F$\n",
    "- $g := (1/\\rho)G$\n",
    "- $v := \\rho/\\mu$\n",
    "\n",
    "\n",
    "Then, $f(\\bar{d_p})$ is the equilibrium value when $d_p$ is kept fixed ($n_p \\longrightarrow f(\\bar{d_p})$ as $t \\longrightarrow \\infty$). \n",
    "\n",
    "Can think of $F(\\bar{d_p})$ as the rate of production of Notch activity. \n",
    "\n",
    "$$ \\Large\n",
    "\\begin{align*}\n",
    "\\dfrac{d}{dt}n_p &= f \\left(\\bar{d_p} \\right) - n_p \\\\\n",
    "\\dfrac{d}{dt}d_p &= v \\left( g(n_p) - d_p \\right) \n",
    "\\end{align*}\n",
    "$$\n",
    "\n",
    "where $t := \\mu \\tau$."
   ]
  },
  {
   "cell_type": "code",
   "execution_count": 1,
   "metadata": {
    "collapsed": true
   },
   "outputs": [],
   "source": [
    "import numpy as np \n",
    "import scipy as scipy\n",
    "import matplotlib.pylab as plt\n",
    "from scipy.integrate import ode"
   ]
  },
  {
   "cell_type": "markdown",
   "metadata": {},
   "source": [
    "### Two cells model\n",
    "\n",
    "Consider a two cells model with periodic boundary conditions. Then, $\\bar{d_1} = d_2$ and $\\bar{d_2} = d_1$. \n",
    "\n",
    "Let\n",
    "\n",
    "$$ \\Large\n",
    "\\begin{align*}\n",
    "f(x) &= \\dfrac{x^k}{a + x^k} \\\\\n",
    "g(x) &= \\dfrac{1}{1 + bx^h} \n",
    "\\end{align*}\n",
    "$$\n",
    "\n",
    "Then, \n",
    "\n",
    "$$ \\Large\n",
    "\\begin{cases}\n",
    "\\begin{align*}\n",
    "\\dfrac{d}{dt}n_j &= \\dfrac{d_{j+1}^k}{a + d_{j+1}^k} - n_j \\\\\n",
    "\\dfrac{d}{dt}d_j &= v \\left( \\dfrac{1}{1 + bn_j^h} - d_j \\right) \n",
    "\\end{align*}\n",
    "\\end{cases}\n",
    "$$\n",
    "\n",
    "for $j \\in \\{ 1, 2\\} \\ (\\ j \\mod \\ 2 \\ )$ and $h, k > 0$."
   ]
  },
  {
   "cell_type": "code",
   "execution_count": 2,
   "metadata": {
    "collapsed": true
   },
   "outputs": [],
   "source": [
    "def twoCells(t, y, a, b, v):\n",
    "    \n",
    "    # y[0] = n_1\n",
    "    # y[1] = d_1\n",
    "    # y[2] = n_2\n",
    "    # y[3] = d_2\n",
    "    \n",
    "    k = 2\n",
    "    h = 2\n",
    "    \n",
    "    dy = [0, 0, 0, 0]\n",
    "    \n",
    "    dy[0] = (y[3]**k)/(a + y[3]**k) - y[0]\n",
    "    dy[1] = v * (1/(1 + b*y[0]) - y[1])\n",
    "    \n",
    "    dy[2] = y[1]/(a + y[1]) - y[2]\n",
    "    dy[3] = v * (1/(1 + b*y[2]**h) - y[3])\n",
    "    \n",
    "    \n",
    "    return(dy)"
   ]
  },
  {
   "cell_type": "code",
   "execution_count": 29,
   "metadata": {
    "collapsed": true
   },
   "outputs": [],
   "source": [
    "N = 1000\n",
    "tfinal = 25\n",
    "t = np.linspace(start=0, stop=tfinal, num=N)\n",
    "y0 = [1, 1, 0.99, 0.99]\n",
    "t0 = 0\n",
    "\n",
    "a = 0.01\n",
    "b = 100\n",
    "v = 1"
   ]
  },
  {
   "cell_type": "code",
   "execution_count": 30,
   "metadata": {
    "collapsed": true
   },
   "outputs": [],
   "source": [
    "solver = scipy.integrate.ode(twoCells).set_integrator('dopri5', nsteps=100000)\n",
    "solver.set_initial_value(y0, t0).set_f_params(a, b, v)\n",
    "\n",
    "sol = np.zeros((N, 4))\n",
    "sol[0] = y0\n",
    "\n",
    "k = 1\n",
    "while solver.successful() and solver.t < tfinal:\n",
    "    solver.integrate(t[k])\n",
    "    sol[k] = solver.y\n",
    "    k += 1"
   ]
  },
  {
   "cell_type": "code",
   "execution_count": 31,
   "metadata": {},
   "outputs": [
    {
     "data": {
      "image/png": "[encoded data removed]",
      "text/plain": [
       "<matplotlib.figure.Figure at 0xe9eca632e8>"
      ]
     },
     "metadata": {},
     "output_type": "display_data"
    }
   ],
   "source": [
    "plt.subplot(221)\n",
    "plt.plot(t, sol[:,0], label='$n_1$')\n",
    "plt.xlabel('t')\n",
    "plt.legend()\n",
    "\n",
    "plt.subplot(222)\n",
    "plt.plot(t, sol[:,1], label='$d_1$')\n",
    "plt.xlabel('t')\n",
    "plt.legend()\n",
    "\n",
    "plt.subplot(223)\n",
    "plt.plot(t, sol[:,2], label='$n_2$')\n",
    "plt.xlabel('t')\n",
    "plt.legend()\n",
    "\n",
    "plt.subplot(224)\n",
    "plt.plot(t, sol[:,3], label='$d_2$')\n",
    "plt.xlabel('t')\n",
    "plt.legend()\n",
    "\n",
    "plt.savefig('pend.png', format='png', dpi=500)\n",
    "plt.show()"
   ]
  },
  {
   "cell_type": "code",
   "execution_count": 6,
   "metadata": {
    "collapsed": true
   },
   "outputs": [],
   "source": [
    "def manyCells1D(t, y, a, b, v, NCells):\n",
    "    \n",
    "    # 1d line of cells with periodic Boundary conditions.\n",
    "    #\n",
    "    # y[0] = n_1\n",
    "    # y[1] = d_1\n",
    "    # y[2] = n_2\n",
    "    # y[3] = d_2\n",
    "    # ...\n",
    "    \n",
    "    k = 2\n",
    "    h = 2\n",
    "    \n",
    "    # pick all the even and odd entries of y: \n",
    "    n = [y for i,y in enumerate(y) if i%2==0]\n",
    "    d = [y for i,y in enumerate(y) if i%2==1]\n",
    "    \n",
    "    # compute the local average in a line. \n",
    "    dbar = (np.roll(d, -1) + np.roll(d, 1))/2\n",
    "    \n",
    "    dn = [0]*NCells\n",
    "    dd = [0]*NCells\n",
    "    \n",
    "    for i in range(NCells):\n",
    "        dn[i] = (dbar[i]**k)/(a + dbar[i]**k) - n[i]\n",
    "        dd[i] = v * (1/(1 + b*n[i]**h) - d[i])\n",
    "    \n",
    "    N = 2*NCells\n",
    "    dy = [0]*N\n",
    "    \n",
    "    dy[0:N:2] = dn\n",
    "    dy[1:N:2] = dd\n",
    "    \n",
    "    return(dy)"
   ]
  },
  {
   "cell_type": "code",
   "execution_count": 7,
   "metadata": {},
   "outputs": [
    {
     "data": {
      "text/plain": [
       "[5, 2, 6, 2]"
      ]
     },
     "execution_count": 7,
     "metadata": {},
     "output_type": "execute_result"
    }
   ],
   "source": [
    "n = [1]*4\n",
    "d = [2]*4\n",
    "\n",
    "d[0:3:2] = [5, 6]\n",
    "d"
   ]
  },
  {
   "cell_type": "code",
   "execution_count": 32,
   "metadata": {
    "collapsed": true
   },
   "outputs": [],
   "source": [
    "NCells = 2\n",
    "y0 = [1, 1, 0.99, 0.99]\n",
    "t0 = 0\n",
    "\n",
    "N = 1000\n",
    "tfinal = 25\n",
    "t = np.linspace(start=0, stop=tfinal, num=N)\n",
    "\n",
    "a = 0.01\n",
    "b = 100\n",
    "v = 1"
   ]
  },
  {
   "cell_type": "code",
   "execution_count": 33,
   "metadata": {
    "collapsed": true
   },
   "outputs": [],
   "source": [
    "solver = scipy.integrate.ode(manyCells1D).set_integrator('dopri5', nsteps=100000)\n",
    "solver.set_initial_value(y0, t0).set_f_params(a, b, v, NCells)\n",
    "\n",
    "sol = np.zeros((N, NCells*2))\n",
    "sol[0] = y0\n",
    "\n",
    "k = 1\n",
    "while solver.successful() and solver.t < tfinal:\n",
    "    solver.integrate(t[k])\n",
    "    sol[k] = solver.y\n",
    "    k += 1"
   ]
  },
  {
   "cell_type": "code",
   "execution_count": 34,
   "metadata": {},
   "outputs": [
    {
     "data": {
      "image/png": "[encoded data removed]",
      "text/plain": [
       "<matplotlib.figure.Figure at 0xe9ec3b5470>"
      ]
     },
     "metadata": {},
     "output_type": "display_data"
    }
   ],
   "source": [
    "plt.subplot(221)\n",
    "plt.plot(t, sol[:,0], label='$n_1$')\n",
    "plt.xlabel('t')\n",
    "plt.legend()\n",
    "\n",
    "plt.subplot(222)\n",
    "plt.plot(t, sol[:,1], label='$d_1$')\n",
    "plt.xlabel('t')\n",
    "plt.legend()\n",
    "\n",
    "plt.subplot(223)\n",
    "plt.plot(t, sol[:,2], label='$n_2$')\n",
    "plt.xlabel('t')\n",
    "plt.legend()\n",
    "\n",
    "plt.subplot(224)\n",
    "plt.plot(t, sol[:,3], label='$d_2$')\n",
    "plt.xlabel('t')\n",
    "plt.legend()\n",
    "\n",
    "plt.show()"
   ]
  },
  {
   "cell_type": "code",
   "execution_count": 35,
   "metadata": {
    "collapsed": true
   },
   "outputs": [],
   "source": [
    "NCells = 70\n",
    "y0 = np.random.uniform(high=1, low=0.95, size=2*NCells)\n",
    "t0 = 0\n",
    "\n",
    "N = 2000\n",
    "tfinal = 30\n",
    "\n",
    "t = np.linspace(start=0, stop=tfinal, num=N)\n",
    "\n",
    "a = 0.01\n",
    "b = 100\n",
    "v = 1\n",
    "\n",
    "solver = scipy.integrate.ode(manyCells1D).set_integrator('dopri5', nsteps=100000)\n",
    "solver.set_initial_value(y0, t0).set_f_params(a, b, v, NCells)\n",
    "\n",
    "sol = np.zeros((N, NCells*2))\n",
    "sol[0] = y0\n",
    "\n",
    "k = 1\n",
    "while solver.successful() and solver.t < tfinal:\n",
    "    solver.integrate(t[k])\n",
    "    sol[k] = solver.y\n",
    "    k += 1"
   ]
  },
  {
   "cell_type": "code",
   "execution_count": 36,
   "metadata": {},
   "outputs": [
    {
     "data": {
      "image/png": "[encoded data removed]",
      "text/plain": [
       "<matplotlib.figure.Figure at 0xe9ec8c9908>"
      ]
     },
     "metadata": {},
     "output_type": "display_data"
    }
   ],
   "source": [
    "x = range(0,NCells)\n",
    "width = 0.8\n",
    "\n",
    "plt.subplot(411)\n",
    "plt.bar(x, sol[0,0:2*NCells:2], width, label='$t = 0$')\n",
    "plt.xlabel('t')\n",
    "plt.ylim((0,1))\n",
    "plt.legend()\n",
    "\n",
    "plt.subplot(412)\n",
    "plt.bar(x, sol[266,0:2*NCells:2], width, label='$t = 5$')\n",
    "plt.xlabel('t')\n",
    "plt.ylim((0,1))\n",
    "plt.legend()\n",
    "\n",
    "plt.subplot(413)\n",
    "plt.bar(x, sol[800,0:2*NCells:2], width, label='$t = 15$')\n",
    "plt.xlabel('t')\n",
    "plt.ylim((0,1))\n",
    "plt.legend()\n",
    "\n",
    "\n",
    "plt.subplot(414)\n",
    "plt.bar(x, sol[1999,0:2*NCells:2], width, label='$t = 30$')\n",
    "plt.xlabel('t')\n",
    "plt.legend()\n",
    "\n",
    "plt.subplots_adjust(top=0.95, bottom=0.08, left=0.10, right=0.95, hspace=0.5,\n",
    "                    wspace=0.35)\n",
    "plt.savefig('manyCellsLine.png', format='png', dpi=500)\n",
    "plt.show()"
   ]
  },
  {
   "cell_type": "markdown",
   "metadata": {},
   "source": [
    "### Todo: Hexagonal-grid model\n",
    "\n",
    "<img src='hex.jpg' width=\"300\" height=\"350\">"
   ]
  },
  {
   "cell_type": "markdown",
   "metadata": {},
   "source": [
    "### Idea: \n",
    "\n",
    "- Unroll the grid row by row.\n",
    "- Use Kroneker product to compute local average. "
   ]
  },
  {
   "cell_type": "code",
   "execution_count": 8,
   "metadata": {},
   "outputs": [
    {
     "data": {
      "image/png": "[encoded data removed]",
      "text/plain": [
       "<matplotlib.figure.Figure at 0x63251800f0>"
      ]
     },
     "metadata": {},
     "output_type": "display_data"
    }
   ],
   "source": [
    "NCols = 4\n",
    "d1 = np.concatenate(([0., 1.], [0.]*(NCols-2)))\n",
    "diagKern = scipy.linalg.toeplitz(d1) \n",
    "\n",
    "d2 = np.concatenate(([1., 0.], [0.]*(NCols-2)))\n",
    "d3 = np.concatenate(([1., 1.], [0.]*(NCols-2)))\n",
    "\n",
    "upOffKern = scipy.linalg.toeplitz(d3, d2)  \n",
    "lowOffKern = scipy.linalg.toeplitz(d2, d3)  \n",
    "\n",
    "# To generalize use a [1]*N vector instead:\n",
    "Nrows = 6\n",
    "upOffDiag = np.diag([2.]*(Nrows-1), 1) \n",
    "lowOffDiag = np.diag([2.]*(Nrows-1), -1) \n",
    "\n",
    "A = np.kron(np.eye(Nrows), diagKern)\n",
    "B = np.kron(lowOffDiag, lowOffKern) + np.kron(upOffDiag, upOffKern) \n",
    "\n",
    "plt.matshow(A + B, cmap=plt.cm.viridis)\n",
    "plt.show()"
   ]
  },
  {
   "cell_type": "code",
   "execution_count": 38,
   "metadata": {
    "collapsed": true
   },
   "outputs": [],
   "source": [
    "def hexGridCells(t, y, a, b, v, NxCells, NyCells):\n",
    "    \n",
    "    # Cells are arranged in a ixj hexagonal grid. \n",
    "    # Zero boundary conditions. \n",
    "    #\n",
    "    # Reshape the grid into a 1xij-vector: [C11, C12, ..., C1j, C21, C22, ..., C2j, ..., Ci1, Ci2, ..., Cij]\n",
    "    # \n",
    "    # y[0] = n11\n",
    "    # y[1] = d11\n",
    "    # y[2] = n12\n",
    "    # y[3] = d12\n",
    "    # ...\n",
    "    # y[2*ij-2] = nij\n",
    "    # y[2*ij-1] = dij\n",
    "    \n",
    "    \n",
    "    # pick all the even and odd entries of y: \n",
    "    n = [y for i,y in enumerate(y) if i%2==0]\n",
    "    d = [y for i,y in enumerate(y) if i%2==1]\n",
    "    \n",
    "    # compute the local average:\n",
    "    \n",
    "    # type of average (neigbors of cell ij): \n",
    "    NCols = NxCells\n",
    "    d1 = np.concatenate(([0., 1.], [0.]*(NCols-2)))\n",
    "    diagKern = scipy.linalg.toeplitz(d1) \n",
    "\n",
    "    d2 = np.concatenate(([1., 0.], [0.]*(NCols-2)))\n",
    "    d3 = np.concatenate(([1., 1.], [0.]*(NCols-2)))\n",
    "\n",
    "    upOffKern = scipy.linalg.toeplitz(d3, d2)  \n",
    "    lowOffKern = scipy.linalg.toeplitz(d2, d3)  \n",
    "\n",
    "    # To generalize use a [1]*N vector instead:\n",
    "    NRows = NyCells\n",
    "    upOffDiag = np.diag([1.]*(NRows-1), 1) \n",
    "    lowOffDiag = np.diag([1.]*(NRows-1), -1) \n",
    "\n",
    "    A = np.kron(np.eye(NRows), diagKern)\n",
    "    B = np.kron(lowOffDiag, lowOffKern) + np.kron(upOffDiag, upOffKern) \n",
    "\n",
    "    dsum = (A + B).dot(d)\n",
    "    dcount = (A + B).dot(np.ones(NCols*NRows))\n",
    "    \n",
    "    dbar = [s/c for s,c in zip(dsum, dcount)]\n",
    "    \n",
    "    \n",
    "    # Delta-Notch dy:\n",
    "    k = 2\n",
    "    h = 2\n",
    "    \n",
    "    NCells = NxCells*NyCells\n",
    "    \n",
    "    dn = [0]*NCells\n",
    "    dd = [0]*NCells\n",
    "    \n",
    "    for i in range(NCells):\n",
    "        dn[i] = (dbar[i]**k)/(a + dbar[i]**k) - n[i]\n",
    "        dd[i] = v * (1/(1 + b*n[i]**h) - d[i])\n",
    "    \n",
    "    N = 2*NCells\n",
    "    dy = [0]*N\n",
    "    \n",
    "    dy[0:N:2] = dn\n",
    "    dy[1:N:2] = dd\n",
    "    \n",
    "    return(dy)"
   ]
  },
  {
   "cell_type": "code",
   "execution_count": 46,
   "metadata": {
    "collapsed": true
   },
   "outputs": [],
   "source": [
    "NxCells = 9\n",
    "NyCells = 9\n",
    "\n",
    "t0 = 0\n",
    "y0 = np.random.uniform(high=1, low=0.98, size=2*NxCells*NyCells) \n",
    "\n",
    "a = 0.01\n",
    "b = 100\n",
    "v = 1\n",
    "\n",
    "dy = hexGridCells(t0, y0, a, b, v, NxCells, NyCells)"
   ]
  },
  {
   "cell_type": "code",
   "execution_count": 47,
   "metadata": {},
   "outputs": [
    {
     "name": "stderr",
     "output_type": "stream",
     "text": [
      "C:\\Users\\Personal\\Anaconda3\\lib\\site-packages\\scipy\\integrate\\_ode.py:1035: UserWarning: dopri5: step size becomes too small\n",
      "  self.messages.get(idid, 'Unexpected idid=%s' % idid))\n"
     ]
    }
   ],
   "source": [
    "N = 100\n",
    "tfinal = 30\n",
    "\n",
    "t = np.linspace(start=0, stop=tfinal, num=N)\n",
    "\n",
    "solver = scipy.integrate.ode(hexGridCells).set_integrator('dopri5', nsteps=1000000)\n",
    "solver.set_initial_value(y0, t0).set_f_params(a, b, v, NxCells, NyCells)\n",
    "\n",
    "sol = np.zeros((N, 2*NxCells*NyCells))\n",
    "sol[0] = y0\n",
    "\n",
    "k = 1\n",
    "while solver.successful() and solver.t < tfinal:\n",
    "    solver.integrate(t[k])\n",
    "    sol[k] = solver.y"
   ]
  },
  {
   "cell_type": "code",
   "execution_count": 48,
   "metadata": {},
   "outputs": [
    {
     "data": {
      "image/png": "[encoded data removed]",
      "text/plain": [
       "<matplotlib.figure.Figure at 0xe9ec97cef0>"
      ]
     },
     "metadata": {},
     "output_type": "display_data"
    }
   ],
   "source": [
    "M = np.reshape(a=sol[1, 0:2*NxCells*NyCells:2], newshape=(NxCells, NyCells))\n",
    "\n",
    "plt.matshow(M, cmap=plt.cm.viridis)\n",
    "plt.show()"
   ]
  },
  {
   "cell_type": "code",
   "execution_count": null,
   "metadata": {
    "collapsed": true
   },
   "outputs": [],
   "source": []
  }
 ],
 "metadata": {
  "kernelspec": {
   "display_name": "Python 3",
   "language": "python",
   "name": "python3"
  },
  "language_info": {
   "codemirror_mode": {
    "name": "ipython",
    "version": 3
   },
   "file_extension": ".py",
   "mimetype": "text/x-python",
   "name": "python",
   "nbconvert_exporter": "python",
   "pygments_lexer": "ipython3",
   "version": "3.6.2"
  }
 },
 "nbformat": 4,
 "nbformat_minor": 2
}
