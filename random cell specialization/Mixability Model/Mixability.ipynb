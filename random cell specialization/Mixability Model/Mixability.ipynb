{
 "cells": [
  {
   "cell_type": "markdown",
   "metadata": {},
   "source": [
    "## A mixability theory for the role of sex in evolution\n",
    "\n",
    "\n",
    "#### Fisher-Wright Model:\n",
    "\n",
    "The landscape of a 2-gene organism\n",
    "\n",
    "\n",
    "<table>\n",
    "    <tr>\n",
    "        <td>  </td>\n",
    "        <td> B1 </td>\n",
    "        <td> B2 </td>\n",
    "        <td> B3 </td>\n",
    "        <td> B4 </td>\n",
    "        <td> B5 </td>\n",
    "    </tr>\n",
    "    <tr>\n",
    "        <td> A1 </td>\n",
    "        <td> 3 </td>\n",
    "        <td> 2 </td>\n",
    "        <td> 4 </td>\n",
    "        <td> 5 </td>\n",
    "        <td> 4 </td>\n",
    "    </tr>\n",
    "    <tr>\n",
    "        <td> A2 </td>\n",
    "        <td> 1 </td>\n",
    "        <td> 0 </td>\n",
    "        <td> 0 </td>\n",
    "        <td> 7 </td>\n",
    "        <td> 2 </td>\n",
    "    </tr>\n",
    "    <tr>\n",
    "        <td> A3 </td>\n",
    "        <td> 2 </td>\n",
    "        <td> 1 </td>\n",
    "        <td> 0 </td>\n",
    "        <td> 4 </td>\n",
    "        <td> 3 </td>\n",
    "    </tr>\n",
    "    <tr>\n",
    "        <td> A4 </td>\n",
    "        <td> 1 </td>\n",
    "        <td> 8 </td>\n",
    "        <td> 1 </td>\n",
    "        <td> 3 </td>\n",
    "        <td> 2 </td>\n",
    "    </tr>\n",
    "</table>\n",
    "\n",
    "\n",
    "#### Notation\n",
    "\n",
    "- $W[i, j] =: w_{i, j}$ is the fitness of combination allele $A_i$ with $B_j$.\n",
    "- $P_{i, j}[t]$ frequency of genotype $A_iB_j$ at generation $t$. I will call $ (i, j) \\mapsto P_t(i, j) := P_{i, j}[t]$.\n",
    "- $r$ recombination rate (between $0$ and $1/2$).\n",
    "\n",
    "\n",
    "$$ \\Large\n",
    "\\tilde{P}_{i, j}[t] := \\frac{P_{i, j}[t] w_{i, j}}{\\overline{w}[t]}\n",
    "$$\n",
    "\n",
    "- $\\overline{w}[t] := \\sum_{i,j} w_{i, j} P_{i, j}[t]$ \n",
    "\n",
    "The model updates the frequencies in the following way: \n",
    "\n",
    "\n",
    "$$ \\Large\n",
    "\\begin{align*}\n",
    "P_{i, j}[t + 1] &= (1 - r)\\tilde{P}_{i, j}[t] + \n",
    "    r \\left( \\sum_{l} \\tilde{P}_{i, l}[t] \\right) \\left( \\sum_{k} \\tilde{P}_{k, j}[t]\\right) \\\\\n",
    "                &= (1 - r)\\tilde{P}_{i, j}[t] + r \\left( \\mathbb{E}_{~P}[w_i] \\mathbb{E}_{~P}[w_j] \\right)\n",
    "\\end{align*}\n",
    "$$\n",
    "\n",
    "\n",
    "### Interpretation: \n",
    "\n",
    "- $\\tilde{P}_{i, j}[t]$ is the freq. of $A_iB_j$ weighted by the fitness. \n",
    "    - A combination with high fitness increases $\\tilde{P}$.\n",
    "    \n",
    "    \n",
    "    \n",
    "- When $r=0$, the model describes an asexual reproduction where $P_{i,j}$ increases proportionally to its fitness $w_{i, j}$. \n",
    "    - It will select the combinations with the highest fitness.\n",
    "    \n",
    "\n",
    "- When $r>0$, the model describes a sexual reproduction. The frequencie $P_{i,j}$ change proportionally to:\n",
    "    - Its fitness $w_{i, j}$ and  \n",
    "    - $\\mathbb{E}_{~P}[w_i] \\mathbb{E}_{~P}[w_j]$.\n",
    "    - The model will select combinations with high fitness and alleles with high average fitness. \n",
    "    \n",
    "### Limitations: \n",
    "\n",
    "1. Fitness remains constant.\n",
    "2. Mutations are not tanken into account. \n",
    "        "
   ]
  },
  {
   "cell_type": "markdown",
   "metadata": {},
   "source": [
    "---------------\n",
    "### Does the model maximize something?\n",
    "\n",
    "\n",
    "Let $ M_i := \\frac{\\sum_{g \\in G} w_g i_g}{\\sum_{g \\in G} i_g}$ be the average fitness of genotype $g$. We call it MIXABILITY.\n",
    "\n",
    "\n",
    "In the example above:  \n",
    "\n",
    "$ M_{A_1} = \\dfrac{ w_{1, 1} + w_{1, 2} + w_{1, 3} + w_{1, 4} + w_{1, 5}}{5}$\n",
    "\n",
    "$ M_{B_2} = \\dfrac{ w_{1, 2} + w_{2, 2} + w_{3, 2} + w_{4, 2}}{4}$\n",
    "\n",
    "Consider the following populationwide measure of mixability:\n",
    "\n",
    "$\\overline{M}[t] = \\dfrac{\\sum_{l \\in L} \\sum_{k \\in l} P_k[t] M_k}{|L|}$\n",
    "\n",
    "In the example: \n",
    "\n",
    "$\\overline{M}[t] =  \\dfrac{\\sum_i P_{i, \\cdot}[t] \\ M_{A_i} + \\sum_j P_{\\cdot, j}[t] \\ M_{B_j}}{2}$"
   ]
  },
  {
   "cell_type": "markdown",
   "metadata": {},
   "source": [
    "---------------\n",
    "### Simulations\n",
    "\n",
    "Choose $n$ fitness matrices and $n$ frequency matrices: \n",
    "\n",
    "- $W^1, ..., W^n$\n",
    "- $P^1, ..., P^n$\n",
    "\n",
    "For each pair $(W^j, P^j)$ and each recombination rate $r \\in \\{0.05, 0.2, 0.5\\}$, itterate the corresponding equations $2^{15}$ generations and compare:\n",
    "\n",
    "- $\\% (\\bar{M}^{sex} > \\bar{M}^{asex})$\n",
    "- $\\% (\\bar{w}^{sex} > \\bar{w}^{asex})$"
   ]
  },
  {
   "cell_type": "code",
   "execution_count": 3,
   "metadata": {
    "collapsed": true
   },
   "outputs": [],
   "source": [
    "import numpy as np \n",
    "import scipy\n",
    "import matplotlib.pylab as plt"
   ]
  },
  {
   "cell_type": "code",
   "execution_count": 12,
   "metadata": {},
   "outputs": [],
   "source": [
    "# In this example I'll use 2 locus A and B each one with 3 alleles: A1, A2, A3 and B1, B2, B3. \n",
    "\n",
    "f = 0.2\n",
    "w = np.random.uniform(low=1 - f, high=1 + f, size=9)\n",
    "p = np.random.uniform(low=0, high=1, size=9)\n",
    "\n",
    "W = w.reshape((3, 3))\n",
    "P = p.reshape((3, 3))"
   ]
  },
  {
   "cell_type": "code",
   "execution_count": 17,
   "metadata": {},
   "outputs": [
    {
     "data": {
      "image/png": "[encoded data removed]",
      "text/plain": [
       "<matplotlib.figure.Figure at 0x154b39b470>"
      ]
     },
     "metadata": {},
     "output_type": "display_data"
    }
   ],
   "source": [
    "plt.matshow(W)\n",
    "plt.show()"
   ]
  },
  {
   "cell_type": "code",
   "execution_count": null,
   "metadata": {
    "collapsed": true
   },
   "outputs": [],
   "source": []
  }
 ],
 "metadata": {
  "kernelspec": {
   "display_name": "Python 3",
   "language": "python",
   "name": "python3"
  },
  "language_info": {
   "codemirror_mode": {
    "name": "ipython",
    "version": 3
   },
   "file_extension": ".py",
   "mimetype": "text/x-python",
   "name": "python",
   "nbconvert_exporter": "python",
   "pygments_lexer": "ipython3",
   "version": "3.6.2"
  }
 },
 "nbformat": 4,
 "nbformat_minor": 2
}
